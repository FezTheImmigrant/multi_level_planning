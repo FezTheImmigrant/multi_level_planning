{
 "cells": [
  {
   "cell_type": "code",
   "execution_count": 1,
   "metadata": {},
   "outputs": [],
   "source": [
    "from hiearchical_plan import *\n",
    "from graph_planner import *\n",
    "import matplotlib.pyplot as plt"
   ]
  },
  {
   "cell_type": "code",
   "execution_count": 2,
   "metadata": {},
   "outputs": [],
   "source": [
    "mdp_0 = mdp_0_placeholder\n",
    "\n",
    "mdp_1 = [\n",
    "    Option(\"room_1_quad_1->room_1_quad_2\"), Option(\"room_1_quad_1->room_1_quad_3\"),\n",
    "    Option(\"room_1_quad_2->room_1_quad_1\"), Option(\"room_1_quad_2->room_1_quad_4\"),\n",
    "    Option(\"room_1_quad_3->room_1_quad_1\"), Option(\"room_1_quad_3->room_1_quad_4\"),\n",
    "    Option(\"room_1_quad_4->room_1_quad_2\"), Option(\"room_1_quad_4->room_1_quad_3\"),\n",
    "\n",
    "    Option(\"room_2_quad_1->room_2_quad_2\"), Option(\"room_2_quad_1->room_2_quad_3\"),\n",
    "    Option(\"room_2_quad_2->room_2_quad_1\"), Option(\"room_2_quad_2->room_2_quad_4\"),\n",
    "    Option(\"room_2_quad_3->room_2_quad_1\"), Option(\"room_2_quad_3->room_2_quad_4\"),\n",
    "    Option(\"room_2_quad_4->room_2_quad_2\"), Option(\"room_2_quad_4->room_2_quad_3\"),\n",
    "\n",
    "    Option(\"room_3_quad_1->room_3_quad_2\"), Option(\"room_3_quad_1->room_3_quad_3\"),\n",
    "    Option(\"room_3_quad_2->room_3_quad_1\"), Option(\"room_3_quad_2->room_3_quad_4\"),\n",
    "    Option(\"room_3_quad_3->room_3_quad_1\"), Option(\"room_3_quad_3->room_3_quad_4\"),\n",
    "    Option(\"room_3_quad_4->room_3_quad_2\"), Option(\"room_3_quad_4->room_3_quad_3\"),\n",
    "\n",
    "    Option(\"room_4_quad_1->room_4_quad_2\"), Option(\"room_4_quad_1->room_4_quad_3\"),\n",
    "    Option(\"room_4_quad_2->room_4_quad_1\"), Option(\"room_4_quad_2->room_4_quad_4\"),\n",
    "    Option(\"room_4_quad_3->room_4_quad_1\"), Option(\"room_4_quad_3->room_4_quad_4\"),\n",
    "    Option(\"room_4_quad_4->room_4_quad_2\"), Option(\"room_4_quad_4->room_4_quad_3\"),\n",
    "]\n",
    "\n",
    "\n",
    "mdp_2 = [\n",
    "        Option(\"room_1->room_2\"), Option(\"room_1->room_3\"),\n",
    "        Option(\"room_2->room_1\"), Option(\"room_2->room_4\"),\n",
    "        Option(\"room_3->room_1\"), Option(\"room_3->room_4\"),\n",
    "        Option(\"room_4->room_2\"), Option(\"room_4->room_3\"),\n",
    "    ]\n",
    "\n",
    "mdp_1 = partition_mdp(mdp_1)\n",
    "mdp_2 = partition_mdp(mdp_2)"
   ]
  },
  {
   "cell_type": "code",
   "execution_count": 3,
   "metadata": {},
   "outputs": [
    {
     "name": "stdout",
     "output_type": "stream",
     "text": [
      "num_test = 10\n",
      "num_test = 50\n",
      "num_test = 100\n",
      "num_test = 200\n",
      "num_test = 500\n",
      "num_test = 1000\n",
      "num_test = 2000\n",
      "num_test = 5000\n",
      "num_test = 10000\n"
     ]
    }
   ],
   "source": [
    "num_test_list = [10, 50, 100, 200, 500, 1000, 2000, 5000, 10000]\n",
    "gp_mean_list = []\n",
    "gp_sem_list = []\n",
    "hp_mean_list = []\n",
    "hp_sem_list = []\n",
    "\n",
    "for num_test in num_test_list:\n",
    "\n",
    "    graph_planner = GraphPlanner([mdp_0, mdp_1, mdp_2])\n",
    "    graph = graph_planner.build_graph_new()\n",
    "\n",
    "    hp_planner = Hierarchical_plan()\n",
    "\n",
    "    list_graph_times = []\n",
    "    list_hp_times = []\n",
    "    \n",
    "    print(\"num_test = %d\" % num_test)\n",
    "\n",
    "    for i in range(num_test):\n",
    "        start_state = random.randint(0, 63)\n",
    "        goal_state = random.randint(0, 63)\n",
    "\n",
    "        start_time = time.time()\n",
    "        graph_planner.find_shortest_path(start_state, goal_state)\n",
    "        end_time = time.time()\n",
    "        list_graph_times.append(end_time - start_time)\n",
    "\n",
    "\n",
    "        start_i = start_state // 8\n",
    "        start_j = start_state % 8\n",
    "\n",
    "        goal_i = goal_state // 8\n",
    "        goal_j = goal_state % 8\n",
    "\n",
    "        arr1 = np.zeros((8,8))\n",
    "        arr1[start_i, start_j] = 1\n",
    "\n",
    "        arr2 = np.zeros((8, 8))\n",
    "        arr2[goal_i, goal_j] = 1 \n",
    "\n",
    "        start_time = time.time()\n",
    "        plan = hp_planner.hierarchical_plan_v2(arr1, arr2, 2)\n",
    "        end_time = time.time()\n",
    "        list_hp_times.append(end_time - start_time)\n",
    "\n",
    "    gp_mean_list.append(np.mean(list_graph_times))\n",
    "    gp_sem_list.append(np.std(list_graph_times)/np.sqrt(num_test))\n",
    "\n",
    "    hp_mean_list.append(np.mean(list_hp_times))\n",
    "    hp_sem_list.append(np.std(list_hp_times)/np.sqrt(num_test))\n",
    "\n",
    "\n",
    "    # print(\"Average time for graph planner: \", np.mean(list_graph_times))\n",
    "    # print(\"Average time for hierarchical planner: \", np.mean(list_hp_times))"
   ]
  },
  {
   "cell_type": "code",
   "execution_count": 5,
   "metadata": {},
   "outputs": [
    {
     "data": {
      "image/png": "[encoded data removed]",
      "text/plain": [
       "<Figure size 432x288 with 1 Axes>"
      ]
     },
     "metadata": {
      "needs_background": "light"
     },
     "output_type": "display_data"
    }
   ],
   "source": [
    "x = np.arange(len(num_test_list))  \n",
    "width = 0.35  \n",
    "\n",
    "fig, ax = plt.subplots()\n",
    "rects1 = ax.bar(x - width/2, gp_mean_list, width, color='salmon', label='Graph Planner', yerr=gp_sem_list)\n",
    "rects2 = ax.bar(x + width/2, hp_mean_list, width, color='slateblue', label='Hierarchical Planner', yerr=hp_sem_list)\n",
    "\n",
    "\n",
    "ax.set_ylabel('Time (s)')\n",
    "ax.set_xlabel('Number of Tests')\n",
    "ax.set_title('Average Planning Time for Graph Planner vs Hierarchical Planner')\n",
    "ax.set_xticks(x)\n",
    "ax.set_xticklabels(num_test_list)\n",
    "ax.legend()\n",
    "\n",
    "fig.tight_layout()\n",
    "plt.show()\n",
    "\n",
    "# save figure\n",
    "fig.savefig('./plots/planning_time.png', dpi=400)"
   ]
  },
  {
   "cell_type": "code",
   "execution_count": null,
   "metadata": {},
   "outputs": [],
   "source": []
  }
 ],
 "metadata": {
  "kernelspec": {
   "display_name": "Python 3",
   "language": "python",
   "name": "python3"
  },
  "language_info": {
   "codemirror_mode": {
    "name": "ipython",
    "version": 3
   },
   "file_extension": ".py",
   "mimetype": "text/x-python",
   "name": "python",
   "nbconvert_exporter": "python",
   "pygments_lexer": "ipython3",
   "version": "3.10.2"
  },
  "orig_nbformat": 4
 },
 "nbformat": 4,
 "nbformat_minor": 2
}
